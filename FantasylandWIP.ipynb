{
 "cells": [
  {
   "cell_type": "code",
   "execution_count": 1,
   "id": "9ca94bbd",
   "metadata": {},
   "outputs": [],
   "source": [
    "import random\n",
    "from collections import Counter\n",
    "\n",
    "# Define the ranks and suits of a deck of cards\n",
    "ranks = ['2', '3', '4', '5', '6', '7', '8', '9', '10', 'J', 'Q', 'K', 'A']\n",
    "ranks_wheel = ['A', '2', '3', '4', '5', '6', '7', '8', '9', '10', 'J', 'Q', 'K']\n",
    "suits = ['Spades', 'Hearts', 'Diamonds', 'Clubs']\n",
    "\n",
    "# Create a deck of cards\n",
    "deck = [(rank, suit) for suit in suits for rank in ranks]\n",
    "\n",
    "premium_ranks = ['Q', 'K', 'A']\n",
    "premium_cards = [(rank, suit) for suit in suits for rank in premium_ranks]\n",
    "pleb_cards = [(rank, suit) for suit in suits for rank in (set(ranks)-set(premium_ranks))]"
   ]
  },
  {
   "cell_type": "code",
   "execution_count": 2,
   "id": "8334938e",
   "metadata": {},
   "outputs": [
    {
     "name": "stdout",
     "output_type": "stream",
     "text": [
      "[(1, 'a'), (2, 'b'), (3, 'c')]\n"
     ]
    }
   ],
   "source": [
    "import ast\n",
    "str_tuples = \"[(1, 'a'), (2, 'b'), (3, 'c')]\"\n",
    "parsed_tuples = ast.literal_eval(str_tuples)\n",
    "print(parsed_tuples)"
   ]
  },
  {
   "cell_type": "code",
   "execution_count": 3,
   "id": "a1df599a",
   "metadata": {},
   "outputs": [],
   "source": [
    "# Creating some edgecases.\n",
    "threequeens_edgecase_str = \"[('Q', 'Spades'), ('Q', 'Diamonds'), ('2', 'Diamonds'), ('4', 'Diamonds'), ('6', 'Diamonds'), ('8', 'Diamonds'), ('Q', 'Hearts'), ('K', 'Spades'), ('A', 'Clubs'), ('3', 'Clubs'), ('6', 'Hearts'), ('9', 'Spades'), ('J', 'Hearts')]\"\n",
    "dragon_hardcode = \"[('A', 'Spades'), ('2', 'Hearts'), ('3', 'Spades'), ('4', 'Diamonds'), ('5', 'Clubs'), ('6', 'Diamonds'), ('8', 'Hearts'), ('K', 'Spades'), ('A', 'Clubs'), ('3', 'Clubs'), ('6', 'Hearts'), ('9', 'Spades'), ('J', 'Hearts')]\"\n",
    "random_dragon = str([(rank, random.choice(suits)) for rank in ranks])\n",
    "pairwith2straights = \"[('10', 'Diamonds'), ('2', 'Clubs'),('3', 'Hearts'),('4', 'Diamonds'),('5', 'Hearts'),('6', 'Hearts'),('8', 'Spades'),('9', 'Diamonds'),('A', 'Clubs'),('A', 'Hearts'),('J', 'Spades'),('K', 'Diamonds'),('Q', 'Diamonds')]\"\n",
    "# Appending immutably \n",
    "premium_cards_plus1random = [*premium_cards, ((random.choice(pleb_cards)))]"
   ]
  },
  {
   "cell_type": "code",
   "execution_count": 4,
   "id": "d7be6b5f",
   "metadata": {},
   "outputs": [
    {
     "data": {
      "text/plain": [
       "[('Q', 'Spades'),\n",
       " ('K', 'Spades'),\n",
       " ('A', 'Spades'),\n",
       " ('Q', 'Hearts'),\n",
       " ('K', 'Hearts'),\n",
       " ('A', 'Hearts'),\n",
       " ('Q', 'Diamonds'),\n",
       " ('K', 'Diamonds'),\n",
       " ('A', 'Diamonds'),\n",
       " ('Q', 'Clubs'),\n",
       " ('K', 'Clubs'),\n",
       " ('A', 'Clubs'),\n",
       " ('10', 'Clubs')]"
      ]
     },
     "execution_count": 4,
     "metadata": {},
     "output_type": "execute_result"
    }
   ],
   "source": [
    "premium_cards_plus1random"
   ]
  },
  {
   "cell_type": "code",
   "execution_count": 5,
   "id": "e717af2c",
   "metadata": {},
   "outputs": [
    {
     "data": {
      "text/plain": [
       "\"[('Q', 'Spades'), ('Q', 'Diamonds'), ('2', 'Diamonds'), ('4', 'Diamonds'), ('6', 'Diamonds'), ('8', 'Diamonds'), ('Q', 'Hearts'), ('K', 'Spades'), ('A', 'Clubs'), ('3', 'Clubs'), ('6', 'Hearts'), ('9', 'Spades'), ('J', 'Hearts')]\""
      ]
     },
     "execution_count": 5,
     "metadata": {},
     "output_type": "execute_result"
    }
   ],
   "source": [
    "threequeens_edgecase_str"
   ]
  },
  {
   "cell_type": "code",
   "execution_count": 18,
   "id": "64cc8b0a",
   "metadata": {},
   "outputs": [
    {
     "data": {
      "text/plain": [
       "[('2', 'Diamonds', 'ID_1'),\n",
       " ('3', 'Clubs', 'ID_2'),\n",
       " ('4', 'Diamonds', 'ID_3'),\n",
       " ('5', 'Spades', 'ID_4'),\n",
       " ('6', 'Hearts', 'ID_5'),\n",
       " ('7', 'Hearts', 'ID_6'),\n",
       " ('8', 'Diamonds', 'ID_7'),\n",
       " ('9', 'Spades', 'ID_8'),\n",
       " ('10', 'Clubs', 'ID_9'),\n",
       " ('J', 'Spades', 'ID_10'),\n",
       " ('Q', 'Hearts', 'ID_11'),\n",
       " ('K', 'Diamonds', 'ID_12'),\n",
       " ('A', 'Diamonds', 'ID_13')]"
      ]
     },
     "execution_count": 18,
     "metadata": {},
     "output_type": "execute_result"
    }
   ],
   "source": [
    "## Define function to draw cards at random, with IDs\n",
    "def draw_cards_with_IDs(is_random, edgecase_str=threequeens_edgecase_str):\n",
    "    new_list = []\n",
    "    if is_random == True:\n",
    "        for i, e_tuple in enumerate(random.sample(deck, 13), 1):\n",
    "            element = (*e_tuple, f'ID_{i}')\n",
    "            new_list.append(element)\n",
    "    elif is_random == False:\n",
    "        edgecase = ast.literal_eval(edgecase_str)\n",
    "        for i, e_tuple in enumerate(edgecase, 1):\n",
    "            element = (*e_tuple, f'ID_{i}')\n",
    "            new_list.append(element)\n",
    "    return new_list\n",
    "draw_cards_with_IDs(is_random=False, edgecase_str=random_dragon)"
   ]
  },
  {
   "cell_type": "markdown",
   "id": "6e3330cc",
   "metadata": {},
   "source": [
    "[How to update deeply nested dictionaries](https://www.slingacademy.com/article/how-to-update-a-nested-dictionary-in-python/)"
   ]
  },
  {
   "cell_type": "code",
   "execution_count": null,
   "id": "efdbf026",
   "metadata": {},
   "outputs": [],
   "source": [
    "ast.literal_eval(threequeens_edgecase_str)"
   ]
  },
  {
   "cell_type": "code",
   "execution_count": 7,
   "id": "e3fab26c",
   "metadata": {},
   "outputs": [],
   "source": [
    "import ast\n",
    "from collections import Counter\n",
    "def Deconstructer(is_random, is_id, edgecase_str=threequeens_edgecase_str, premium_ranks = ['Q', 'K', 'A']):\n",
    "    \"\"\"\n",
    "    is_random=True paremeter is dominant over edgecase, if is_random is False, please pass an \n",
    "    edgecase as a string of a list of tuples. \n",
    "    \n",
    "    Returns a dictionary with 4 five-letter keys :\n",
    "    'ranks' is a nested dictionary with 'e_rank' as a key, with 'length' and 'partition' as subkeys\n",
    "    'suits' is a dictionary with counts of the rank and suit.\n",
    "    'plebs', 'prems' are lists of tuples that seperate the ranks into plebs and prems, \n",
    "    \"\"\"\n",
    "    # Create the return object dictionary\n",
    "    d = dict()\n",
    "    \n",
    "    if is_random == True and is_id == False:\n",
    "        thirteen = random.sample(deck, 13)\n",
    "    elif is_random == False and is_id == False:\n",
    "        thirteen = ast.literal_eval(edgecase_str) \n",
    "        \n",
    "    if is_random == True and is_id == True:\n",
    "        thirteen = draw_cards_with_IDs(is_random=True)\n",
    "    elif is_random == False and is_id == True:\n",
    "        thirteen = draw_cards_with_IDs(is_random=False, edgecase_str=edgecase_str)\n",
    "   \n",
    "    \n",
    "    # Sort the random and predefined edgecase.\n",
    "    sorted_thirteen = sorted(thirteen)\n",
    "    \n",
    "    # Count the multiplicities of rank and suit in each card_tuple.\n",
    "    rank_counter = dict()\n",
    "    for e_tuple in thirteen:\n",
    "        # When encountering a new rank, ...\n",
    "        if e_tuple[0] not in rank_counter.keys():\n",
    "            # ... append the new rank as a key in the rank_counter dictionary\n",
    "            rank_counter[e_tuple[0]] = {'length': int(0),'partition': list()}\n",
    "            # Update the sub_dictionary lengths and partitions\n",
    "            rank_counter[e_tuple[0]]['partition'].append(e_tuple)\n",
    "            rank_counter[e_tuple[0]]['length'] += 1\n",
    "        else:\n",
    "            rank_counter[e_tuple[0]]['partition'].append(e_tuple)\n",
    "            rank_counter[e_tuple[0]]['length'] += 1\n",
    "            \n",
    "#     suit_counter = Counter(card[1] for card in thirteen)\n",
    "    suit_counter = dict()\n",
    "    for e_tuple in thirteen:\n",
    "        if e_tuple[1] not in suit_counter.keys():\n",
    "            # ... append the new rank as a key in the rank_counter dictionary\n",
    "            suit_counter.update({e_tuple[1] : {'length': int(0) , 'partition' : list()}})\n",
    "            # Update the sub_dictionary lengths and partitions\n",
    "            suit_counter[e_tuple[1]]['partition'].append(e_tuple)\n",
    "            suit_counter[e_tuple[1]]['length'] += 1\n",
    "        else:\n",
    "            suit_counter[e_tuple[1]]['partition'].append(e_tuple)\n",
    "            suit_counter[e_tuple[1]]['length'] += 1\n",
    "            \n",
    "    # Sorting the ranks and suits counter by the ranks and suits list.\n",
    "    sorted_ranks_dict = dict(sorted(rank_counter.items(), key=lambda kv: ranks.index(kv[0]), reverse=False))\n",
    "    sorted_ranks_wheel = dict(sorted(rank_counter.items(), key=lambda kv: ranks_wheel.index(kv[0]), reverse=False))\n",
    "    \n",
    "    # Sorting by the suits list\n",
    "    sorted_suits_dict = dict(sorted(suit_counter.items(), key=lambda kv: suits.index(kv[0]), reverse=False))\n",
    "    \n",
    "    # Sorting the partitions by rank. \n",
    "    for item in sorted_suits_dict.items():\n",
    "        sorted_suits_dict.update({ item[0] : {\n",
    "                                             'length' : item[1].get('length'),\n",
    "                                             'partition': sorted(item[1].get('partition'), key=lambda tup : ranks.index(tup[0]))\n",
    "                                             }\n",
    "                                })\n",
    "\n",
    "    premiums = [card for card in thirteen if card[0] in premium_ranks]\n",
    "    plebians = [card for card in thirteen if card[0] not in premium_ranks]\n",
    "    \n",
    "    d['sample'] = sorted_thirteen\n",
    "    d.update({'ranks': sorted_ranks_dict})\n",
    "    d['ranks_wheel'] = sorted_ranks_wheel\n",
    "    d['suits'] = sorted_suits_dict\n",
    "    d['prems'] = premiums\n",
    "    d['plebs'] = plebians \n",
    "    \n",
    "    return d"
   ]
  },
  {
   "cell_type": "markdown",
   "id": "77c75ca8",
   "metadata": {},
   "source": [
    "```python\n",
    "{\n",
    "    'Q' : \n",
    "          {\n",
    "              length_1 : 2,\n",
    "              partition_1 :['Q_S', 'Q_H']\n",
    "          },\n",
    "    'K' : \n",
    "          {\n",
    "              length_2 : 1,\n",
    "              partition_2 : ['K_S'] \n",
    "          },    \n",
    "}\n",
    "```"
   ]
  },
  {
   "cell_type": "code",
   "execution_count": 28,
   "id": "979adc6a",
   "metadata": {},
   "outputs": [
    {
     "name": "stdout",
     "output_type": "stream",
     "text": [
      "[('3', 'Clubs', 'ID_4'), ('3', 'Spades', 'ID_12'), ('4', 'Hearts', 'ID_11'), ('5', 'Clubs', 'ID_10'), ('6', 'Diamonds', 'ID_3'), ('6', 'Spades', 'ID_7'), ('7', 'Spades', 'ID_1'), ('8', 'Hearts', 'ID_2'), ('8', 'Spades', 'ID_5'), ('9', 'Clubs', 'ID_9'), ('9', 'Spades', 'ID_6'), ('J', 'Hearts', 'ID_8'), ('Q', 'Clubs', 'ID_13')]\n"
     ]
    },
    {
     "data": {
      "text/plain": [
       "{'Spades': {'length': 5,\n",
       "  'partition': [('3', 'Spades', 'ID_12'),\n",
       "   ('6', 'Spades', 'ID_7'),\n",
       "   ('7', 'Spades', 'ID_1'),\n",
       "   ('8', 'Spades', 'ID_5'),\n",
       "   ('9', 'Spades', 'ID_6')]},\n",
       " 'Hearts': {'length': 3,\n",
       "  'partition': [('4', 'Hearts', 'ID_11'),\n",
       "   ('8', 'Hearts', 'ID_2'),\n",
       "   ('J', 'Hearts', 'ID_8')]},\n",
       " 'Diamonds': {'length': 1, 'partition': [('6', 'Diamonds', 'ID_3')]},\n",
       " 'Clubs': {'length': 4,\n",
       "  'partition': [('3', 'Clubs', 'ID_4'),\n",
       "   ('5', 'Clubs', 'ID_10'),\n",
       "   ('9', 'Clubs', 'ID_9'),\n",
       "   ('Q', 'Clubs', 'ID_13')]}}"
      ]
     },
     "execution_count": 28,
     "metadata": {},
     "output_type": "execute_result"
    }
   ],
   "source": [
    "My_Object = Deconstructer(is_random=True, is_id=True, edgecase_str=threequeens_edgecase_str)\n",
    "print(My_Object['sample'])\n",
    "My_Object['suits']"
   ]
  },
  {
   "cell_type": "code",
   "execution_count": null,
   "id": "4fd0100b",
   "metadata": {},
   "outputs": [],
   "source": [
    "My_Object['suits']"
   ]
  },
  {
   "cell_type": "code",
   "execution_count": null,
   "id": "8e1147cc",
   "metadata": {},
   "outputs": [],
   "source": [
    "# Get the suit(key) with a count of at least 5.\n",
    "flush_suit = [suit for suit in My_Object['suits']\\\n",
    "              if (My_Object['suits'][suit]==max(My_Object['suits'].values())) and (max(My_Object['suits'].values()) >= 5)]\n",
    "print(\"key by value:\", flush_suit)"
   ]
  },
  {
   "cell_type": "markdown",
   "id": "2bb7693d",
   "metadata": {},
   "source": [
    "<ol>\n",
    "    <li> Firstly, create two new list : premiums and plebians </li>\n",
    "    <li> Secondly, check the parity of each premium rank, if it is even then append to </li>\n",
    "    <li> l</li>\n",
    "    <li> o</li>\n",
    "    \n",
    "    \n",
    "\n",
    "</ol>"
   ]
  },
  {
   "cell_type": "code",
   "execution_count": null,
   "id": "ef7a0168",
   "metadata": {},
   "outputs": [],
   "source": [
    "def UltimateSorter(edgecase):\n",
    "    top = []\n",
    "    mid = []\n",
    "    bottom = []\n",
    "    \n",
    "    # Step 1 complete\n",
    "    deconstruct = Deconstructer(is_random=False, edgecase=threequeens_edgecase_str)\n",
    "    # Step 2 \n",
    "    for e_prem in deconstruct['prems']"
   ]
  },
  {
   "cell_type": "code",
   "execution_count": null,
   "id": "533e3334",
   "metadata": {},
   "outputs": [],
   "source": [
    "display(deconstruct['prems'])\n",
    "display(deconstruct['sample'])"
   ]
  },
  {
   "cell_type": "code",
   "execution_count": null,
   "id": "c5f698bc",
   "metadata": {},
   "outputs": [],
   "source": [
    "deconstruct['ranks']"
   ]
  },
  {
   "cell_type": "code",
   "execution_count": null,
   "id": "675f6ff8",
   "metadata": {},
   "outputs": [],
   "source": [
    "import itertools\n",
    "from pprint import pprint\n",
    "\n",
    "deconstruct = Deconstructer(is_random=True, edgecase_str=threequeens_edgecase_str)\n",
    "pprint(deconstruct['ranks'], sort_dicts=False)\n",
    "pprint(deconstruct['suits'])\n",
    "# What premium ranks do we have in the sample of thirteen?\n",
    "caught_prem_ranks = set(card[0] for card in deconstruct['prems'])\n",
    "\n",
    "top = []\n",
    "mid = []\n",
    "# bot = \n",
    "all_prem_pairs = []\n",
    "\n",
    "# Check if flush suit or part of straight\n",
    "\n",
    "# List of suits that are flush\n",
    "flush_suit = [suit for suit in deconstruct['suits']\\\n",
    "              if (deconstruct['suits'][suit]==max(deconstruct['suits'].values())) and (max(deconstruct['suits'].values()) >= 5)\n",
    "             ]\n",
    "print(caught_prem_ranks)\n",
    "for e_premrank in caught_prem_ranks:\n",
    "    prem_pair_counter = 0 \n",
    "    # If a premium_pair or quardruple is found,...\n",
    "    if deconstruct['ranks'][e_premrank]['length'] % 2 == 0:\n",
    "        # Append the partition \n",
    "        prem_pairOrquad = deconstruct['ranks'][e_premrank]['partition']\n",
    "        prem_pairs = [prem_pairOrquad[i:i+2] for i in range(0, len(prem_pairOrquad), 2)] \n",
    "        all_prem_pairs.append(prem_pairs)\n",
    "     \n",
    "    # If a premium_triple is found,\n",
    "    elif deconstruct['ranks'][e_premrank]['length'] == 3:\n",
    "        premium_triple = deconstruct['ranks'][e_premrank]['partition']\n",
    "        # Print out the premium_card that is part of a flush.\n",
    "        for prem_card in premium_triple:\n",
    "            if prem_card[1] in flush_suit:\n",
    "                print(f'A premium-triple is part of a flush {flush_suit}')\n",
    "            else:\n",
    "                print('No flush in premium-triple')\n",
    "            \n",
    "        # Filter out the card that is part of the flush, there may not be a flush.\n",
    "        prem_pair = [card for card in premium_triple if card[1] not in flush_suit]\n",
    "        # If premium_triple still contains three cards, remove a random premium_card\n",
    "        if len(prem_pair) == 3:\n",
    "            print('A random premium card from the triple is thrown out to make the pair')\n",
    "            prem_pair.pop(random.randrange(len(prem_pair))) # pop() takes an integer index,\n",
    "        all_prem_pairs.append(prem_pair)\n",
    "     \n",
    "    else:\n",
    "        pass\n",
    "# Flatten the list of lists,     \n",
    "all_prem_pairs_flat = list(itertools.chain(*all_prem_pairs))\n",
    "remaining_cards = [card for card in deconstruct['sample'] if card not in all_prem_pairs_flat]\n",
    "    \n",
    "try:\n",
    "    top = all_prem_pairs[0]   \n",
    "    mid = all_prem_pairs[1]\n",
    "except IndexError:\n",
    "    pass    \n",
    "## Now we can process the plebians\n",
    "pleb_dict = {}\n",
    "pleb_pairs = []\n",
    "pleb_triples = []\n",
    "pleb_deconstruct = Deconstructer(is_random=False, edgecase_str=str(remaining_cards))\n",
    "for pleb_rank, dict_ in pleb_deconstruct['ranks'].items():\n",
    "    if dict_['length'] == 2:\n",
    "        pleb_pairs.append(dict_['partition'])\n",
    "    elif dict_['length'] == 3:\n",
    "        pleb_triples.append(dict_['partition'])\n",
    "    \n",
    "if len(pleb_pairs) % 2 == 0:\n",
    "    pass\n",
    "    \n",
    "    \n",
    "    \n",
    "if mid == []:\n",
    "    pass\n",
    "    \n",
    "\n",
    "\n",
    "\n",
    "print('The top is ',top)\n",
    "print('The mid is ',mid)"
   ]
  },
  {
   "cell_type": "code",
   "execution_count": null,
   "id": "ebb2ca62",
   "metadata": {},
   "outputs": [],
   "source": [
    "deconstruct['sample']"
   ]
  },
  {
   "cell_type": "markdown",
   "id": "30be5267",
   "metadata": {},
   "source": [
    "```python\n",
    "pleb_dict = \n",
    "{\n",
    "    '4' : \n",
    "          {\n",
    "              length_1 : 3,\n",
    "              partition_1 :['Q_S', 'Q_H']\n",
    "          },\n",
    "    'J' : \n",
    "          {\n",
    "              length_2 : 1,\n",
    "              partition_2 : ['K_S'] \n",
    "          },    \n",
    "}\n",
    "```"
   ]
  },
  {
   "cell_type": "code",
   "execution_count": null,
   "id": "70ff8746",
   "metadata": {},
   "outputs": [],
   "source": [
    "pleb_deconstruct['ranks']"
   ]
  },
  {
   "cell_type": "code",
   "execution_count": null,
   "id": "5d56f572",
   "metadata": {},
   "outputs": [],
   "source": [
    "def checkforPairs(remaining=remaining_cards):\n",
    "    hello = Deconstructer(is_random=False, edgecase_str=str(remaining))\n",
    "    return hello['ranks']"
   ]
  },
  {
   "cell_type": "code",
   "execution_count": null,
   "id": "21c5b49a",
   "metadata": {},
   "outputs": [],
   "source": [
    "pleb_pairs = []\n",
    "for k,dict_ in checkforPairs(remaining_cards).items():\n",
    "    if dict_['length'] == 2:\n",
    "        pleb_pairs.append(pleb_pairs)\n",
    "pleb_pairs"
   ]
  },
  {
   "cell_type": "code",
   "execution_count": null,
   "id": "0af60908",
   "metadata": {},
   "outputs": [],
   "source": []
  },
  {
   "cell_type": "code",
   "execution_count": null,
   "id": "5ba9285f",
   "metadata": {},
   "outputs": [],
   "source": [
    "empty1 = []\n",
    "empty2 = []\n",
    "if empty1 or empty2:\n",
    "    print('Hello')\n",
    "else:\n",
    "    print('Goodbye')"
   ]
  },
  {
   "cell_type": "code",
   "execution_count": null,
   "id": "5d19e941",
   "metadata": {},
   "outputs": [],
   "source": [
    "# let's flatten the list\n",
    "import itertools\n",
    "all_prem_pairs_flat = list(itertools.chain(*all_prem_pairs))"
   ]
  },
  {
   "cell_type": "code",
   "execution_count": null,
   "id": "a14be393",
   "metadata": {},
   "outputs": [],
   "source": [
    "new_list = [f for f in deconstruct['sample'] if f not in all_prem_pairs_flat]"
   ]
  },
  {
   "cell_type": "code",
   "execution_count": null,
   "id": "61e2d56f",
   "metadata": {},
   "outputs": [],
   "source": [
    "new_list"
   ]
  },
  {
   "cell_type": "code",
   "execution_count": null,
   "id": "3ec6a889",
   "metadata": {},
   "outputs": [],
   "source": [
    "all_prem_pairs"
   ]
  },
  {
   "cell_type": "code",
   "execution_count": null,
   "id": "61bc8a0a",
   "metadata": {},
   "outputs": [],
   "source": [
    " # Check if the suit is flush\n",
    "#             if prem_card[1] in flush_suit:\n",
    "#                 # Remove the Queen that is part of the flush, mutably\n",
    "#                 premium_triple2.remove((prem_card[0], prem_card[1]))\n",
    "                \n",
    "#                 # Updated list m, without creating new list variable\n",
    "#                 prem_pair2 = [card for card in premium_triple if card[] != a]\n",
    "                "
   ]
  },
  {
   "cell_type": "code",
   "execution_count": null,
   "id": "bf7fd6c9",
   "metadata": {},
   "outputs": [],
   "source": [
    "premium_triple2"
   ]
  },
  {
   "cell_type": "code",
   "execution_count": null,
   "id": "152847e6",
   "metadata": {},
   "outputs": [],
   "source": [
    "all_prem_pairs"
   ]
  },
  {
   "cell_type": "code",
   "execution_count": null,
   "id": "632c85f5",
   "metadata": {},
   "outputs": [],
   "source": [
    "promoted"
   ]
  },
  {
   "cell_type": "code",
   "execution_count": null,
   "id": "9b26ae37",
   "metadata": {},
   "outputs": [],
   "source": [
    "deconstruct['ranks']"
   ]
  },
  {
   "cell_type": "code",
   "execution_count": null,
   "id": "a3f06c45",
   "metadata": {},
   "outputs": [],
   "source": [
    "for e_prem in deconstruct['prems']:\n",
    "    if e_prem[0] in deconstruct['ranks'].values:\n",
    "        "
   ]
  },
  {
   "cell_type": "code",
   "execution_count": null,
   "id": "8b105e00",
   "metadata": {},
   "outputs": [],
   "source": [
    "deconstruct['prems'].remove(('Q', 'Spades'))"
   ]
  },
  {
   "cell_type": "code",
   "execution_count": null,
   "id": "8e97965a",
   "metadata": {},
   "outputs": [],
   "source": [
    "deconstruct['prems']"
   ]
  },
  {
   "cell_type": "code",
   "execution_count": null,
   "id": "10bd53fc",
   "metadata": {},
   "outputs": [],
   "source": [
    "queens = [card for card in ast.literal_eval(threequeens_edgecase_str) if card[0] in premium_ranks] # == 'Q'\n",
    "for e_queen in queens:\n",
    "    # Check if the suit is flush\n",
    "    if e_queen[1] in flush_suit:\n",
    "        # Remove the Queen that is part of the flush \n",
    "        queens.remove((e_queen[0], e_queen[1]))\n",
    "queens"
   ]
  },
  {
   "cell_type": "markdown",
   "id": "09723d86",
   "metadata": {},
   "source": [
    "## Straights "
   ]
  },
  {
   "cell_type": "code",
   "execution_count": 8,
   "id": "75aed1b2",
   "metadata": {},
   "outputs": [
    {
     "name": "stdout",
     "output_type": "stream",
     "text": [
      "[1, 2, 5, 7, 8, 10, 13, 14, 16, 20]\n",
      "Consecutive globals 3\n",
      "No 5-card straight found\n"
     ]
    }
   ],
   "source": [
    "import random\n",
    "big_list = list(range(1, 20+1))\n",
    "my_subset = random.sample(big_list, 10)\n",
    "def check_consecutive_numbers(lst, atleast=3):\n",
    "    lst.sort()\n",
    "    print(lst)\n",
    "    got_straight = False\n",
    "    possible_straight = []\n",
    "    # Counts consecutivity for any two adjacent elements\n",
    "    consecutive_global = 0\n",
    "    # Counts consecutivity iff all previous elements are also consecutive.\n",
    "    consecutive_local = 0\n",
    "    for i in range(len(lst) - 1):\n",
    "        if lst[i] == lst[i+1]-1:\n",
    "            consecutive_local += 1\n",
    "            if lst[i] not in possible_straight:\n",
    "                possible_straight.append(lst[i])\n",
    "            else:\n",
    "                pass\n",
    "            consecutive_global += 1\n",
    "            # Check if the minimum-straight is made after each iteration...\n",
    "            if consecutive_local >= atleast:\n",
    "                possible_straight.append(lst[i+1])\n",
    "                # ...Lock in new varaibles\n",
    "                longest = consecutive_local\n",
    "                longest_straight = possible_straight\n",
    "                got_straight = True\n",
    "        else:\n",
    "            # Reset the local_counter\n",
    "            consecutive_local = 0\n",
    "            possible_straight = []\n",
    "    if got_straight == True:\n",
    "        print(f'{atleast+1}-card straight found.\\nLongest straight is a {longest+1}-card straight, namely {longest_straight}.')\n",
    "    else:\n",
    "        print('Consecutive globals',consecutive_global)\n",
    "        print(f'No {atleast+1}-card straight found')\n",
    "        \n",
    "check_consecutive_numbers(lst=my_subset, atleast=4)"
   ]
  },
  {
   "cell_type": "markdown",
   "id": "bba5eaae",
   "metadata": {},
   "source": [
    "Error here is good learning point.\n",
    "```python\n",
    "def checkforStraight(senarai, atleast=4):\n",
    "    # Counts consecutivity for any two adjacent elements\n",
    "    consecutive_global = 0\n",
    "    # Counts consecutivity iff all previous elements are also consecutive.\n",
    "    consecutive_local = 0\n",
    "    print('The sorted set of ranks', sorted(senarai, key= lambda x: ranks.index(x), reverse=False))\n",
    "    for i in range(len(senarai)-1):\n",
    "        if ranks.index(senarai[i]) == ranks.index(senarai[i+1])-1:\n",
    "            print(f'{senarai[i]} is next to {senarai[i+1]}')\n",
    "            consecutive_local += 1\n",
    "            consecutive_global += 1\n",
    "        else:\n",
    "            # Reset the local_counter\n",
    "            consecutive_local = 0\n",
    "    if consecutive_local >= atleast:\n",
    "        print(f'At least {atleast+1} consecutive numbers found')\n",
    "    else:\n",
    "        print('Consecutive globals',consecutive_global)\n",
    "        print(f'No {atleast+1}-card straight found')\n",
    "```"
   ]
  },
  {
   "cell_type": "code",
   "execution_count": null,
   "id": "ce7596b0",
   "metadata": {},
   "outputs": [],
   "source": []
  },
  {
   "cell_type": "code",
   "execution_count": null,
   "id": "ab034979",
   "metadata": {},
   "outputs": [],
   "source": [
    "senarai[2]"
   ]
  },
  {
   "cell_type": "code",
   "execution_count": null,
   "id": "58e2a841",
   "metadata": {},
   "outputs": [],
   "source": [
    "print('This is an element :', senarai[2])\n",
    "a = senarai[2]\n",
    "print('This is an element :', senarai[2+1])\n",
    "b = senarai[2+1]\n"
   ]
  },
  {
   "cell_type": "code",
   "execution_count": null,
   "id": "bc8cd93b",
   "metadata": {},
   "outputs": [],
   "source": [
    "print(ranks_wheel.index(a))\n",
    "print(ranks_wheel.index(b))"
   ]
  },
  {
   "cell_type": "code",
   "execution_count": null,
   "id": "6cbba3e1",
   "metadata": {},
   "outputs": [],
   "source": [
    "senarai = ['A', '2', '4', '5', '6', '7','K','A']"
   ]
  },
  {
   "cell_type": "code",
   "execution_count": null,
   "id": "ed8ea732",
   "metadata": {},
   "outputs": [],
   "source": [
    "if\\\n",
    "(ranks_wheel.index(senarai[-2]) == ranks_wheel.index(senarai[-2+1])-1)\\\n",
    "or\\\n",
    "(ranks.index(senarai[-2]) == ranks.index(senarai[-2+1])-1):\n",
    "    print('True')\n"
   ]
  },
  {
   "cell_type": "code",
   "execution_count": null,
   "id": "2b9731de",
   "metadata": {},
   "outputs": [],
   "source": [
    "# Change the list from rank to rank_wheel on both sides to\n",
    "# -2 is True for rank\n",
    "# 0 is True for wheel\n",
    "(ranks.index(senarai[0]) == ranks.index(senarai[0+1])-1)"
   ]
  },
  {
   "cell_type": "code",
   "execution_count": null,
   "id": "7b66f08f",
   "metadata": {},
   "outputs": [],
   "source": [
    "for i in range(0,len(senarai)):\n",
    "    print(i)"
   ]
  },
  {
   "cell_type": "markdown",
   "id": "8fe6670d",
   "metadata": {},
   "source": [
    " Need to ensure the input list "
   ]
  },
  {
   "cell_type": "code",
   "execution_count": 9,
   "id": "e90f7ee0",
   "metadata": {},
   "outputs": [],
   "source": [
    "def checkforStraight(rank_ordering, senarai, atleast=4):\n",
    "    \"\"\"\n",
    "    DOCSTRING\n",
    "    \"\"\"\n",
    "    got_straight = False\n",
    "    possible_straight = []\n",
    "    # Counts consecutivity for any two adjacent elements\n",
    "    consecutive_global = 0\n",
    "    # Counts consecutivity iff all previous elements are also consecutive.\n",
    "    consecutive_local = 0\n",
    "    # Sorting the ranks in the function\n",
    "    senarai = sorted(senarai, key=lambda x: rank_ordering.index(x), reverse=False)\n",
    "    print('The sorted set of ranks', senarai)\n",
    "    for i in range(0, len(senarai)-1):\n",
    "        if rank_ordering.index(senarai[i]) == rank_ordering.index(senarai[i+1])-1:\n",
    "            print(f'{senarai[i]} is next to {senarai[i+1]}')\n",
    "            consecutive_local += 1\n",
    "            # This if-block prevents duplicate entries\n",
    "            if senarai[i] not in possible_straight:\n",
    "                possible_straight.append(senarai[i])\n",
    "            else:\n",
    "                pass\n",
    "            consecutive_global += 1\n",
    "            # Check if a straight is made after comparing each neighbour\n",
    "            # Check if the minimum-straight is made after each iteration...\n",
    "            if consecutive_local >= atleast:\n",
    "                possible_straight.append(senarai[i+1])\n",
    "                # ...Lock in new variables\n",
    "                longest = consecutive_local\n",
    "                longest_straight = possible_straight\n",
    "                got_straight = True\n",
    "        else:\n",
    "            # Reset the local_counter\n",
    "            consecutive_local = 0\n",
    "            possible_straight = []\n",
    "    if got_straight == True:\n",
    "        print(f'{atleast+1}-card straight found.\\nLongest straight is a {longest+1}-card straight, namely {longest_straight}.')\n",
    "    else:\n",
    "        print('Consecutive globals', consecutive_global)\n",
    "        print(f'No {atleast+1}-card straight found')\n",
    "        \n",
    "    try:\n",
    "        return longest_straight\n",
    "    except UnboundLocalError:\n",
    "        return []"
   ]
  },
  {
   "cell_type": "code",
   "execution_count": 14,
   "id": "9cb80843",
   "metadata": {},
   "outputs": [
    {
     "name": "stdout",
     "output_type": "stream",
     "text": [
      "The sorted set of ranks ['2', '3', '4', '6', '8', '9', '10', 'J', 'Q', 'A']\n",
      "2 is next to 3\n",
      "3 is next to 4\n",
      "8 is next to 9\n",
      "9 is next to 10\n",
      "10 is next to J\n",
      "J is next to Q\n",
      "5-card straight found.\n",
      "Longest straight is a 5-card straight, namely ['8', '9', '10', 'J', 'Q'].\n"
     ]
    },
    {
     "data": {
      "text/plain": [
       "['8', '9', '10', 'J', 'Q']"
      ]
     },
     "execution_count": 14,
     "metadata": {},
     "output_type": "execute_result"
    }
   ],
   "source": [
    "## Implementation \n",
    "\n",
    "# Create rank and suit counters\n",
    "Counter_Obj = Deconstructer(is_random=True,is_id=False, edgecase_str=threequeens_edgecase_str)\n",
    "# Choose rank_ordering \n",
    "set_of_ranks = list(Counter_Obj['ranks_wheel'].keys())\n",
    "\n",
    "# Exectute function\n",
    "checkforStraight(rank_ordering=ranks, senarai=set_of_ranks,  atleast=4)"
   ]
  },
  {
   "cell_type": "code",
   "execution_count": null,
   "id": "9333ed03",
   "metadata": {},
   "outputs": [],
   "source": [
    "ranks_wheel"
   ]
  },
  {
   "cell_type": "code",
   "execution_count": null,
   "id": "cc26915d",
   "metadata": {},
   "outputs": [],
   "source": [
    "my_list"
   ]
  },
  {
   "cell_type": "code",
   "execution_count": null,
   "id": "6d96043c",
   "metadata": {},
   "outputs": [],
   "source": [
    "ranks"
   ]
  },
  {
   "cell_type": "code",
   "execution_count": null,
   "id": "1a18ea4e",
   "metadata": {},
   "outputs": [],
   "source": [
    "ranks.index(my_list[6]) "
   ]
  },
  {
   "cell_type": "code",
   "execution_count": null,
   "id": "aa430926",
   "metadata": {},
   "outputs": [],
   "source": [
    "ranks.index(my_list[6+1])-1"
   ]
  },
  {
   "cell_type": "code",
   "execution_count": null,
   "id": "0bcddc96",
   "metadata": {},
   "outputs": [],
   "source": [
    "for i in range(len(my_subset)- 3):\n",
    "    print(i)"
   ]
  },
  {
   "cell_type": "code",
   "execution_count": null,
   "id": "44b4d40f",
   "metadata": {},
   "outputs": [],
   "source": [
    "# LHS : \n",
    "my_subset[2] +3"
   ]
  },
  {
   "cell_type": "code",
   "execution_count": null,
   "id": "91cbaf44",
   "metadata": {},
   "outputs": [],
   "source": [
    "# RHS :\n",
    "my_subset[(2)+3]"
   ]
  },
  {
   "cell_type": "code",
   "execution_count": null,
   "id": "524c3215",
   "metadata": {},
   "outputs": [],
   "source": [
    "my_subset[2] + 3 <= my_subset[2+3]"
   ]
  },
  {
   "cell_type": "code",
   "execution_count": null,
   "id": "26ed1044",
   "metadata": {},
   "outputs": [],
   "source": [
    "rank_count"
   ]
  },
  {
   "cell_type": "code",
   "execution_count": null,
   "id": "16371d77",
   "metadata": {},
   "outputs": [],
   "source": [
    "tuples_filtered = [tup for tup in tuples if tup[0] in filter_set]"
   ]
  },
  {
   "cell_type": "code",
   "execution_count": null,
   "id": "02c17e8b",
   "metadata": {},
   "outputs": [],
   "source": [
    "thirteen"
   ]
  },
  {
   "cell_type": "markdown",
   "id": "99814c80",
   "metadata": {},
   "source": [
    "Say I have the following dictionary in Python, where each key has a list as a value.\n",
    "The keys have the following naming convention, where they have the string 'list' followed by an underscore, then the length of the list value, followed by another underscore, then finally the ordinal number associated with that length of list value.\n",
    "\n",
    "The elements of the list, only contain numbers from 1 upto 8.\n",
    "\n",
    "```python3\n",
    "data_structure = {\n",
    "list_3_1 : [1, 2, 3], \n",
    "list_3_2 : [2, 3, 5], \n",
    "list_3_3 : [3, 4, 8],\n",
    "list_4_1 : [2, 6, 7, 8],\n",
    "list_3_4 : [1, 2, 5, 7],\n",
    "list_2_1 : [1, 3]\n",
    "}\n",
    "```\n",
    "\n",
    "I want to obtain the only the keys from the data_structure whose list-values elements \n",
    "are mutually exclusive. There may be more than one group of disjoint sets.\n",
    "In this case, list_3_3 and list_3_4 would form Group 1. list_4_1 and list_2_1 would form Group 2.\n",
    "\n",
    "The output should be return as a dictionary like this :\n",
    "\n",
    "Groupings = {\n",
    "Group_1 : [list_3_3, list_3_4],\n",
    "Group_2 : [list_4_1, list_2_1]\n",
    "}"
   ]
  },
  {
   "cell_type": "markdown",
   "id": "8768ca9b",
   "metadata": {},
   "source": [
    "[Slicing a dictionary](https://stackoverflow.com/questions/29216889/slicing-a-dictionary)"
   ]
  },
  {
   "cell_type": "code",
   "execution_count": null,
   "id": "d5e5e23d-7903-46b4-8165-c14524e47616",
   "metadata": {},
   "outputs": [],
   "source": [
    "# Good stuff - but only does pairs\n",
    "data_structure = {\n",
    "    'set_3_1': {1, 2, 3}, \n",
    "    'set_3_2': {2, 3, 5}, \n",
    "    'set_3_3': {3, 4, 8},\n",
    "    'set_4_1': {2, 6, 7, 8},\n",
    "    'set_3_4': {1, 2, 5, 7},\n",
    "    'set_2_1': {1, 3},\n",
    "    'set_2_2' : {4, 5},\n",
    "    'set_2_3' : {6, 8},\n",
    "    'set_2_4' : {1, 2},\n",
    "}\n",
    "\n",
    "Groupings = []\n",
    "next_key_counter = 0\n",
    "for e_setname1, e_set1 in data_structure.items():\n",
    "    next_key_counter += 1\n",
    "    print('The first set ---', e_set1)\n",
    "    for e_setname2, e_set2 in dict(list(data_structure.items())[next_key_counter:]).items():\n",
    "        print('The second set', e_set2)\n",
    "        found_exclusive = None\n",
    "        # For a given in set1, compare with every other set in the data_structure, one at a time.\n",
    "        # Check for mutual exclusivity\n",
    "        if (len(e_set1.intersection(e_set2))) == 0 :\n",
    "            \n",
    "            growth = {*e_set1, *e_set2}\n",
    "            # Extend e_list1 immutably\n",
    "            \n",
    "            # Create an extension, in case more than 2 sets are mutully exclusive among each other.\n",
    "            print(f'THE mutual exclusive{e_set1} {e_set2}, Here is the extension {growth} ')\n",
    "            \n",
    "\n",
    "            found_exclusive = (e_set1, e_set2)\n",
    "            Groupings.append(found_exclusive)\n",
    "        else:\n",
    "            pass\n",
    "Groupings"
   ]
  },
  {
   "cell_type": "code",
   "execution_count": 12,
   "id": "eafe8a4d",
   "metadata": {},
   "outputs": [
    {
     "data": {
      "text/plain": [
       "[({1, 2, 3}, {4, 5}, {6, 8}),\n",
       " ({2, 3, 5}, {6, 8}),\n",
       " ({3, 4, 8}, {1, 2, 5, 7}),\n",
       " ({2, 6, 7, 8}, {1, 3}, {4, 5}),\n",
       " ({1, 2, 5, 7}, {6, 8}),\n",
       " ({1, 3}, {4, 5}, {6, 8}),\n",
       " ({4, 5}, {6, 8}, {1, 2}),\n",
       " ({6, 8}, {1, 2})]"
      ]
     },
     "execution_count": 12,
     "metadata": {},
     "output_type": "execute_result"
    }
   ],
   "source": [
    "# CHATGPT for the win\n",
    "data_structure = {\n",
    "    'set_7_1' : {1, 2, 3, 5, 6, 7, 9},\n",
    "    'set_3_1': {1, 2, 3}, \n",
    "    'set_3_2': {2, 3, 5}, \n",
    "    'set_3_3': {3, 4, 8},\n",
    "    'set_4_1': {2, 6, 7, 8},\n",
    "    'set_3_4': {1, 2, 5, 7},\n",
    "    'set_2_1': {1, 3},\n",
    "    'set_2_2' : {4, 5},\n",
    "    'set_2_3' : {6, 8},\n",
    "    'set_2_4' : {1, 2},\n",
    "}\n",
    "\n",
    "Groupings = []\n",
    "\n",
    "# Create a list of sets\n",
    "sets_list = list(data_structure.values())\n",
    "\n",
    "# Iterate through the list of sets\n",
    "for i in range(len(sets_list)):\n",
    "    current_set = sets_list[i]\n",
    "    group = [current_set]\n",
    "    growth_set = set(current_set)\n",
    "    \n",
    "    # Check if the current set is mutually exclusive with the remaining sets\n",
    "    for j in range(i+1, len(sets_list)):\n",
    "        other_set = sets_list[j]\n",
    "        if len(growth_set.intersection(other_set)) == 0:\n",
    "            group.append(other_set)\n",
    "            growth_set.update(other_set)\n",
    "    # Add the group to the Groupings list\n",
    "    if len(group) > 1:\n",
    "        Groupings.append(tuple(group))\n",
    "        \n",
    "# Convert the sets back to the original keys\n",
    "Groupings_with_keys = []\n",
    "for group in Groupings:\n",
    "    group_with_keys = tuple(key for key, value in data_structure.items() if value in group)\n",
    "    Groupings_with_keys.append(group_with_keys)\n",
    "\n",
    "Groupings"
   ]
  },
  {
   "cell_type": "code",
   "execution_count": null,
   "id": "396783f4",
   "metadata": {},
   "outputs": [],
   "source": [
    "data_structure"
   ]
  },
  {
   "cell_type": "code",
   "execution_count": null,
   "id": "9a690ead",
   "metadata": {},
   "outputs": [],
   "source": [
    "next(iterator)"
   ]
  },
  {
   "cell_type": "code",
   "execution_count": null,
   "id": "7a464ffc",
   "metadata": {},
   "outputs": [],
   "source": [
    "Groupings"
   ]
  },
  {
   "cell_type": "code",
   "execution_count": null,
   "id": "7522e233",
   "metadata": {},
   "outputs": [],
   "source": [
    "import itertools\n",
    "dict(list(data_structure.items())[:-2])"
   ]
  },
  {
   "cell_type": "code",
   "execution_count": null,
   "id": "3a27c6cc",
   "metadata": {},
   "outputs": [],
   "source": [
    "Groupings"
   ]
  },
  {
   "cell_type": "code",
   "execution_count": null,
   "id": "e26620dc",
   "metadata": {},
   "outputs": [],
   "source": [
    "for e_setname1, e_set1 in data_structure.items():\n",
    "    for e_setname2, e_set2 in data_structure.items():\n",
    "        if (len(e_set1.intersection(e_set2))) == 0 :\n",
    "            print('Do something')"
   ]
  },
  {
   "cell_type": "code",
   "execution_count": null,
   "id": "700c91f9",
   "metadata": {},
   "outputs": [],
   "source": [
    "len(set())"
   ]
  },
  {
   "cell_type": "code",
   "execution_count": null,
   "id": "9a0390f2",
   "metadata": {},
   "outputs": [],
   "source": [
    "data_structure = {\n",
    "    'set_3_1': {1, 2, 3}, \n",
    "    'set_3_2': {2, 3, 5}, \n",
    "    'set_3_3': {3, 4, 8},\n",
    "    'set_4_1': {2, 6, 7, 8},\n",
    "    'set_3_4': {1, 2, 5, 7},\n",
    "    'set_2_1': {1, 3}\n",
    "}\n",
    "\n",
    "keys = list(data_structure.keys())\n",
    "\n",
    "for i in range(len(keys) - 1):\n",
    "    print(keys[i])"
   ]
  },
  {
   "cell_type": "code",
   "execution_count": null,
   "id": "af8fa12a",
   "metadata": {},
   "outputs": [],
   "source": [
    "keys"
   ]
  }
 ],
 "metadata": {
  "kernelspec": {
   "display_name": "Python 3 (ipykernel)",
   "language": "python",
   "name": "python3"
  },
  "language_info": {
   "codemirror_mode": {
    "name": "ipython",
    "version": 3
   },
   "file_extension": ".py",
   "mimetype": "text/x-python",
   "name": "python",
   "nbconvert_exporter": "python",
   "pygments_lexer": "ipython3",
   "version": "3.12.4"
  }
 },
 "nbformat": 4,
 "nbformat_minor": 5
}
